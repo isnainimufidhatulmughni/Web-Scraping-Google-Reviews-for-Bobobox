{
 "cells": [
  {
   "cell_type": "code",
   "execution_count": 89,
   "metadata": {},
   "outputs": [],
   "source": [
    "import pandas as pd"
   ]
  },
  {
   "cell_type": "code",
   "execution_count": 99,
   "metadata": {},
   "outputs": [
    {
     "data": {
      "text/plain": [
       "<Response [200]>"
      ]
     },
     "execution_count": 99,
     "metadata": {},
     "output_type": "execute_result"
    }
   ],
   "source": [
    "from bs4 import BeautifulSoup\n",
    "import requests\n",
    "url = \"https://www.google.co.id/travel/hotels/entity/CgsIvuOSsbuTmOeXARAB/reviews?utm_campaign=sharing&utm_medium=link&utm_source=htls&ts=CAEaIAoCGgASGhIUCgcI6A8QBxgIEgcI6A8QBxgJGAEyAhAAKgkKBToDSURSGgA\"\n",
    "response = requests.get(url)\n",
    "response"
   ]
  },
  {
   "cell_type": "code",
   "execution_count": 122,
   "metadata": {},
   "outputs": [],
   "source": [
    "soup = BeautifulSoup(data, 'html.parser')"
   ]
  },
  {
   "cell_type": "code",
   "execution_count": 124,
   "metadata": {},
   "outputs": [
    {
     "name": "stdout",
     "output_type": "stream",
     "text": [
      "Telusuri ulasan\n",
      "Telusuri ulasan\n"
     ]
    }
   ],
   "source": [
    "reviews = soup.find_all(\"span\", {\"class\": \"Wlgmgf\"})\n",
    "for review in reviews:\n",
    "    names = soup.find(\"div\", {\"class\": \"tHBMrf\"})\n",
    "    for name in names:\n",
    "        category_element = soup.find(\"span\", {\"jsname\":\"ODzDMd\"},{\"class\":\"m1GHmf\"})\n",
    "        category = category_element.text.strip() if category_element else \"N/A\"\n",
    "        print(category)\n",
    "    print(names.text)\n"
   ]
  },
  {
   "cell_type": "code",
   "execution_count": 98,
   "metadata": {},
   "outputs": [
    {
     "name": "stdout",
     "output_type": "stream",
     "text": [
      "Stella Christy\n",
      "Stella Christy\n",
      "Stella Christy\n",
      "Stella Christy\n",
      "Stella Christy\n",
      "Stella Christy\n",
      "Stella Christy\n",
      "Stella Christy\n"
     ]
    }
   ],
   "source": [
    "containers = soup.find_all(\"div\", class_=\"review-section\")\n",
    "for container in containers:\n",
    "    name_element = soup.find(\"p\", {\"class\": \"font-primary text-sm font-semibold md:basis-1/3 md:text-[20px]\"})\n",
    "    name = name_element.text.strip() if name_element else \"N/A\"\n",
    "    print(name)"
   ]
  },
  {
   "cell_type": "code",
   "execution_count": 94,
   "metadata": {},
   "outputs": [
    {
     "name": "stdout",
     "output_type": "stream",
     "text": [
      "Reviewer: N/A\n",
      "Rating: N/A\n",
      "Date: N/A\n",
      "Title: N/A\n",
      "Content: N/A\n",
      "--------------------------------------------------\n",
      "Reviewer: Stella Christy\n",
      "Rating: 4\n",
      "Date: 24 Nov 2023\n",
      "Title: Colokan listrik mohon d maintain,1 tidak berfungsi\n",
      "Content: Colokan listriknya mohon d maintain selalu, 1 colokan tidak berfungsi\n",
      "--------------------------------------------------\n",
      "Reviewer: Rika Fadilah\n",
      "Rating: 5\n",
      "Date: 24 Nov 2023\n",
      "Title: Comfortable sleep and excellent customer service:)\n",
      "Content: Semuanya bersih dan nyaman, sayang bobobox alun alun bandung jauhhh sekali parkir motornyaa, kalau parkir motor didepan bangunan pasti saya kasih bintang 10!! Ohiya saran disetiap kamar disediakan keset kaki, terimakasih\n",
      "--------------------------------------------------\n",
      "Reviewer: Lee Keang Heng\n",
      "Rating: 4\n",
      "Date: 23 Nov 2023\n",
      "Title: Bedsheet and towels stained, must clean all.\n",
      "Content: The bedsheet and towels got stain. Good to ensure all is clean.\n",
      "--------------------------------------------------\n",
      "Reviewer: Tugas Kantor\n",
      "Rating: 4\n",
      "Date: 23 Nov 2023\n",
      "Title: Kebersihan kamar mandi perlu ditingkatkan\n",
      "Content: Kebersihan kamar mandi mohon untuk ditingkatkan ya kak, tp overall oke kamarnya nyaman untuk ditempati. Kakak-kakak staf dan satpam juga ramah dan sabar melayani tamu-tamu yang datang\n",
      "--------------------------------------------------\n",
      "Reviewer: Akbar Hantar\n",
      "Rating: 5\n",
      "Date: 20 Nov 2023\n",
      "Title: Stay nice and happy!\n",
      "Content: Niiiiiiiiccccccccveeeeeee staaaaaaaaaaaaaayÿyyyyyyyyyyyhyhy\n",
      "--------------------------------------------------\n",
      "Reviewer: Annisa Suhawan\n",
      "Rating: 5\n",
      "Date: 18 Nov 2023\n",
      "Title: Kamar bersih, nyaman, layak.\n",
      "Content: Bagus banget, kamar bersih kamar mandi juga bersih, nyaman sangat worth it pokoknya\n",
      "--------------------------------------------------\n",
      "Reviewer: Tri Wulandari\n",
      "Rating: 5\n",
      "Date: 18 Nov 2023\n",
      "Title: Tempat bagus, mudah akses, cocok buat liburan.\n",
      "Content: Bagus banget tempatnya. akses kemana-mana gampang banget. kalau mau ke alun-alun bandung, king mall, yogya,jalan asia afrika ya tinggal jalan. jadi cocok banget buat yang mau liburan tapi gak nguras dompet. terima kasih bobobox alun-alun bandung\n",
      "--------------------------------------------------\n"
     ]
    }
   ],
   "source": []
  }
 ],
 "metadata": {
  "kernelspec": {
   "display_name": "Python 3",
   "language": "python",
   "name": "python3"
  },
  "language_info": {
   "codemirror_mode": {
    "name": "ipython",
    "version": 3
   },
   "file_extension": ".py",
   "mimetype": "text/x-python",
   "name": "python",
   "nbconvert_exporter": "python",
   "pygments_lexer": "ipython3",
   "version": "3.11.9"
  }
 },
 "nbformat": 4,
 "nbformat_minor": 2
}
