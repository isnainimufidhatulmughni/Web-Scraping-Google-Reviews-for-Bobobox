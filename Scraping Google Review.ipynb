{
 "cells": [
  {
   "cell_type": "code",
   "execution_count": 1,
   "metadata": {},
   "outputs": [],
   "source": [
    "import requests\n",
    "import numpy as np\n",
    "import pandas as pd\n",
    "from bs4 import BeautifulSoup\n",
    "from selenium import webdriver\n",
    "from selenium.webdriver import Chrome\n",
    "from selenium.webdriver.common.by import By\n",
    "from selenium.webdriver.support.ui import WebDriverWait\n",
    "from selenium.webdriver.support import expected_conditions as EC \n",
    "import time"
   ]
  },
  {
   "cell_type": "code",
   "execution_count": 4,
   "metadata": {},
   "outputs": [],
   "source": [
    "url = \"https://www.google.co.id/travel/hotels/entity/CgsIvuOSsbuTmOeXARAB/reviews?utm_campaign=sharing&utm_medium=link&utm_source=htls&ts=CAEaIAoCGgASGhIUCgcI6A8QBxgIEgcI6A8QBxgJGAEyAhAAKgkKBToDSURSGgA\"\n",
    "\n",
    "options = webdriver.ChromeOptions()\n",
    "options.add_argument(\"--start-maximized\")\n",
    "driver = webdriver.Chrome(options=options)\n",
    "driver.get(url)"
   ]
  },
  {
   "cell_type": "code",
   "execution_count": 122,
   "metadata": {},
   "outputs": [],
   "source": [
    "reviews = []\n",
    "soup = BeautifulSoup(driver.page_source, \"html.parser\")\n",
    "containers = soup.findAll('div', attrs= {'class':'review-section'})"
   ]
  },
  {
   "cell_type": "code",
   "execution_count": 124,
   "metadata": {},
   "outputs": [
    {
     "name": "stdout",
     "output_type": "stream",
     "text": [
      "Telusuri ulasan\n",
      "Telusuri ulasan\n"
     ]
    }
   ],
   "source": [
    "reviews = soup.find_all(\"span\", {\"class\": \"Wlgmgf\"})\n",
    "for review in reviews:\n",
    "    names = soup.find(\"div\", {\"class\": \"tHBMrf\"})\n",
    "    for name in names:\n",
    "        category_element = soup.find(\"span\", {\"jsname\":\"ODzDMd\"},{\"class\":\"m1GHmf\"})\n",
    "        category = category_element.text.strip() if category_element else \"N/A\"\n",
    "        print(category)\n",
    "    print(names.text)\n"
   ]
  },
  {
   "cell_type": "code",
   "execution_count": 98,
   "metadata": {},
   "outputs": [
    {
     "name": "stdout",
     "output_type": "stream",
     "text": [
      "Stella Christy\n",
      "Stella Christy\n",
      "Stella Christy\n",
      "Stella Christy\n",
      "Stella Christy\n",
      "Stella Christy\n",
      "Stella Christy\n",
      "Stella Christy\n"
     ]
    }
   ],
   "source": [
    "containers = soup.find_all(\"div\", class_=\"review-section\")\n",
    "for container in containers:\n",
    "    name_element = soup.find(\"p\", {\"class\": \"font-primary text-sm font-semibold md:basis-1/3 md:text-[20px]\"})\n",
    "    name = name_element.text.strip() if name_element else \"N/A\"\n",
    "    print(name)"
   ]
  }
 ],
 "metadata": {
  "kernelspec": {
   "display_name": "Python 3",
   "language": "python",
   "name": "python3"
  },
  "language_info": {
   "codemirror_mode": {
    "name": "ipython",
    "version": 3
   },
   "file_extension": ".py",
   "mimetype": "text/x-python",
   "name": "python",
   "nbconvert_exporter": "python",
   "pygments_lexer": "ipython3",
   "version": "3.11.9"
  }
 },
 "nbformat": 4,
 "nbformat_minor": 2
}
