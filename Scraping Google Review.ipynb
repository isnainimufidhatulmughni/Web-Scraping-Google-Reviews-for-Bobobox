{
 "cells": [
  {
   "cell_type": "code",
   "execution_count": 2,
   "metadata": {},
   "outputs": [],
   "source": [
    "import pandas as pd"
   ]
  },
  {
   "cell_type": "code",
   "execution_count": 3,
   "metadata": {},
   "outputs": [
    {
     "data": {
      "text/plain": [
       "<Response [200]>"
      ]
     },
     "execution_count": 3,
     "metadata": {},
     "output_type": "execute_result"
    }
   ],
   "source": [
    "from bs4 import BeautifulSoup\n",
    "import requests\n",
    "url = \"https://www.google.co.id/travel/hotels/entity/CgsIvuOSsbuTmOeXARAB/reviews?utm_campaign=sharing&utm_medium=link&utm_source=htls&ts=CAEaIAoCGgASGhIUCgcI6A8QBxgIEgcI6A8QBxgJGAEyAhAAKgkKBToDSURSGgA\"\n",
    "response = requests.get(url)\n",
    "response"
   ]
  },
  {
   "cell_type": "code",
   "execution_count": 4,
   "metadata": {},
   "outputs": [],
   "source": [
    "data = response.text"
   ]
  },
  {
   "cell_type": "code",
   "execution_count": 5,
   "metadata": {},
   "outputs": [],
   "source": [
    "soup = BeautifulSoup(data, 'html.parser')"
   ]
  },
  {
   "cell_type": "code",
   "execution_count": null,
   "metadata": {},
   "outputs": [
    {
     "name": "stdout",
     "output_type": "stream",
     "text": [
      "Bobobox Pods Paskal\n"
     ]
    }
   ],
   "source": [
    "places = soup.find_all(\"a\", {\"class\": \"CQYfx hAP9Pd gEBR9d\"})\n",
    "for place in places:\n",
    "        print(place.text)"
   ]
  },
  {
   "cell_type": "code",
   "execution_count": null,
   "metadata": {},
   "outputs": [
    {
     "name": "stdout",
     "output_type": "stream",
     "text": [
      "Telusuri ulasan\n",
      "Kamar Mandi (185)\n",
      "Tidur (144)\n",
      "Kebersihan (250)\n",
      "Transportasi Umum (53)\n",
      "Properti (237)\n",
      "Lokasi (119)\n",
      "Layanan (137)\n",
      "Hiburan Malam (26)\n",
      "Keamanan (44)\n",
      "Kamar (65)\n",
      "Dapur (19)\n",
      "Suasana (63)\n",
      "Wi-Fi (33)\n",
      "Aksesibilitas (22)\n",
      "Parkir (24)\n",
      "Makan Di Luar (25)\n",
      "TV (15)\n",
      "Sarapan (15)\n",
      "Ber-Ac (19)\n",
      "Keluarga (13)\n",
      "Bar (8)\n",
      "Semua\n",
      "Kamar Mandi (185)\n",
      "Tidur (144)\n",
      "Kebersihan (250)\n",
      "Transportasi Umum (53)\n",
      "Properti (237)\n",
      "Lokasi (119)\n",
      "Layanan (137)\n",
      "Hiburan Malam (26)\n",
      "Keamanan (44)\n",
      "Kamar (65)\n",
      "Dapur (19)\n",
      "Suasana (63)\n",
      "Wi-Fi (33)\n",
      "Aksesibilitas (22)\n",
      "Parkir (24)\n",
      "Makan Di Luar (25)\n",
      "TV (15)\n",
      "Sarapan (15)\n",
      "Ber-Ac (19)\n",
      "Keluarga (13)\n",
      "Bar (8)\n",
      "+ 12 lainnya\n"
     ]
    }
   ],
   "source": [
    "subjects = soup.find_all(\"span\", {\"class\": \"m1GHmf\"})\n",
    "for subject in subjects:\n",
    "        print(subject.text)"
   ]
  }
 ],
 "metadata": {
  "kernelspec": {
   "display_name": "Python 3",
   "language": "python",
   "name": "python3"
  },
  "language_info": {
   "codemirror_mode": {
    "name": "ipython",
    "version": 3
   },
   "file_extension": ".py",
   "mimetype": "text/x-python",
   "name": "python",
   "nbconvert_exporter": "python",
   "pygments_lexer": "ipython3",
   "version": "3.11.9"
  }
 },
 "nbformat": 4,
 "nbformat_minor": 2
}
