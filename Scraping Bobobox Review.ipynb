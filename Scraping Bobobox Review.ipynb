{
 "cells": [
  {
   "cell_type": "code",
   "execution_count": 6,
   "metadata": {},
   "outputs": [],
   "source": [
    "import requests\n",
    "import numpy as np\n",
    "import pandas as pd\n",
    "from bs4 import BeautifulSoup\n",
    "from selenium import webdriver\n",
    "from selenium.webdriver import Chrome\n",
    "from selenium.webdriver.common.by import By\n",
    "from selenium.webdriver.support.ui import WebDriverWait\n",
    "from selenium.webdriver.support import expected_conditions as EC \n",
    "import time"
   ]
  },
  {
   "cell_type": "code",
   "execution_count": 7,
   "metadata": {},
   "outputs": [],
   "source": [
    "url = \"https://bobobox.com/bobopod/jawa-barat/bobopod-alun-alun-bandung-1007/review/\"\n",
    "\n",
    "options = webdriver.ChromeOptions()\n",
    "options.add_argument(\"--start-maximized\")\n",
    "driver = webdriver.Chrome(options=options)\n",
    "driver.get(url)\n",
    "\n",
    "reviews = []\n",
    "for i in range(0,11):\n",
    "    soup = BeautifulSoup(driver.page_source, \"html.parser\")\n",
    "    containers = soup.findAll('div', attrs= {'class':'review-section'})\n",
    "\n",
    "    for container in containers:\n",
    "        reviewer_element = container.find(\"p\", class_=\"font-primary\")\n",
    "        rating_element = container.find(\"span\", class_=\"production-rating-value\")\n",
    "        date_element = container.find(\"div\", class_=\"date-rating\")\n",
    "        title_element = container.find(\"p\", class_=\"md:bold-16\")\n",
    "        content_element = container.find(\"p\", class_=\"regular-12\")\n",
    "\n",
    "        reviewer = reviewer_element.text.strip() if reviewer_element else \"N/A\"\n",
    "        reviewer = reviewer_element.text.strip() if reviewer_element else \"N/A\"\n",
    "        rating = rating_element.text.strip() if rating_element else \"N/A\"\n",
    "        date = date_element.text.strip() if date_element else \"N/A\"\n",
    "        title = title_element.text.strip() if title_element else \"N/A\"\n",
    "        content = content_element.text.strip() if content_element else \"N/A\" \n",
    "\n",
    "        reviews.append({\n",
    "            \"Reviewer\": reviewer,\n",
    "            \"Rating\": rating,\n",
    "            \"Date\": date,\n",
    "            \"Title\": title,\n",
    "            \"Content\": content\n",
    "        })\n",
    "\n",
    "    time.sleep(2)\n",
    "    next_page = driver.find_element('xpath',\"//button[contains(text(), 'Load More')]\").click()\n",
    "        \n",
    "data = pd.DataFrame(reviews)\n",
    "print(data)"
   ]
  },
  {
   "cell_type": "code",
   "execution_count": null,
   "metadata": {},
   "outputs": [],
   "source": [
    "data.to_csv(\"Bobobox.csv\", index=False)"
   ]
  }
 ],
 "metadata": {
  "kernelspec": {
   "display_name": "Python 3",
   "language": "python",
   "name": "python3"
  },
  "language_info": {
   "codemirror_mode": {
    "name": "ipython",
    "version": 3
   },
   "file_extension": ".py",
   "mimetype": "text/x-python",
   "name": "python",
   "nbconvert_exporter": "python",
   "pygments_lexer": "ipython3",
   "version": "3.11.9"
  }
 },
 "nbformat": 4,
 "nbformat_minor": 2
}
