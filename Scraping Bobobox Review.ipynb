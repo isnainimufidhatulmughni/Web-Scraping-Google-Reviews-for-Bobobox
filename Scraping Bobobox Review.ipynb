{
 "cells": [
  {
   "cell_type": "code",
   "execution_count": 3,
   "metadata": {},
   "outputs": [],
   "source": [
    "import requests\n",
    "import numpy as np\n",
    "import pandas as pd\n",
    "from bs4 import BeautifulSoup\n",
    "from selenium import webdriver\n",
    "from selenium.webdriver import Chrome\n",
    "from selenium.webdriver.common.by import By\n",
    "from selenium.webdriver.support.ui import WebDriverWait\n",
    "from selenium.webdriver.support import expected_conditions as EC \n",
    "import time"
   ]
  },
  {
   "cell_type": "code",
   "execution_count": 4,
   "metadata": {},
   "outputs": [
    {
     "name": "stdout",
     "output_type": "stream",
     "text": [
      "             Reviewer Rating         Date  \\\n",
      "0                 N/A    N/A          N/A   \n",
      "1      Stella Christy      4  25 Nov 2023   \n",
      "2        Rika Fadilah      5  25 Nov 2023   \n",
      "3      Lee Keang Heng      4  24 Nov 2023   \n",
      "4        Tugas Kantor      4  24 Nov 2023   \n",
      "..                ...    ...          ...   \n",
      "633   Almeida Aprilia      5  11 Jun 2023   \n",
      "634  Diah Rusdi Yanti      5  11 Jun 2023   \n",
      "635   Almeida Aprilia      5  10 Jun 2023   \n",
      "636    Alvin Cesarrio      5  10 Jun 2023   \n",
      "637    Vivien Arviena      5  10 Jun 2023   \n",
      "\n",
      "                                                 Title  \\\n",
      "0                                                  N/A   \n",
      "1    Colokan listrik mohon d maintain,1 tidak berfu...   \n",
      "2    Comfortable sleep and excellent customer servi...   \n",
      "3         Bedsheet and towels stained, must clean all.   \n",
      "4            Kebersihan kamar mandi perlu ditingkatkan   \n",
      "..                                                 ...   \n",
      "633                  Ka Sinta Ramah dan Pelayanan Baik   \n",
      "634                       Pelayanan nyaman, bintang 5.   \n",
      "635    Karyawan ramah dan responsif, beda dari Paskal.   \n",
      "636                    Really comfortable, enjoyed it.   \n",
      "637       Stop kontak charger hp agak error di pod 35.   \n",
      "\n",
      "                                               Content  \n",
      "0                                                  N/A  \n",
      "1    Colokan listriknya mohon d maintain selalu, 1 ...  \n",
      "2    Semuanya bersih dan nyaman, sayang bobobox alu...  \n",
      "3    The bedsheet and towels got stain. Good to ens...  \n",
      "4    Kebersihan kamar mandi mohon untuk ditingkatka...  \n",
      "..                                                 ...  \n",
      "633  Ka Sinta Ramah banget, palig suka sama ka Sint...  \n",
      "634            sangat nyamann, pelayanan nya bintang 5  \n",
      "635  Karyawan nya pada baik banged dan ramah suka n...  \n",
      "636                really comfortable and i enjoyed it  \n",
      "637  Stop kontak tuk charger hp agak error di pod 3...  \n",
      "\n",
      "[638 rows x 5 columns]\n"
     ]
    }
   ],
   "source": [
    "url = \"https://bobobox.com/bobopod/jawa-barat/bobopod-alun-alun-bandung-1007/review/\"\n",
    "\n",
    "options = webdriver.ChromeOptions()\n",
    "options.add_argument(\"--start-maximized\")\n",
    "driver = webdriver.Chrome(options=options)\n",
    "driver.get(url)\n",
    "\n",
    "reviews = []\n",
    "for i in range(0,11):\n",
    "    soup = BeautifulSoup(driver.page_source, \"html.parser\")\n",
    "    containers = soup.findAll('div', attrs= {'class':'review-section'})\n",
    "\n",
    "    for container in containers:\n",
    "        reviewer_element = container.find(\"p\", class_=\"font-primary\")\n",
    "        rating_element = container.find(\"span\", class_=\"production-rating-value\")\n",
    "        date_element = container.find(\"div\", class_=\"date-rating\")\n",
    "        title_element = container.find(\"p\", class_=\"md:bold-16\")\n",
    "        content_element = container.find(\"p\", class_=\"regular-12\")\n",
    "\n",
    "        reviewer = reviewer_element.text.strip() if reviewer_element else \"N/A\"\n",
    "        reviewer = reviewer_element.text.strip() if reviewer_element else \"N/A\"\n",
    "        rating = rating_element.text.strip() if rating_element else \"N/A\"\n",
    "        date = date_element.text.strip() if date_element else \"N/A\"\n",
    "        title = title_element.text.strip() if title_element else \"N/A\"\n",
    "        content = content_element.text.strip() if content_element else \"N/A\" \n",
    "\n",
    "        reviews.append({\n",
    "            \"Reviewer\": reviewer,\n",
    "            \"Rating\": rating,\n",
    "            \"Date\": date,\n",
    "            \"Title\": title,\n",
    "            \"Content\": content\n",
    "        })\n",
    "\n",
    "    time.sleep(2)\n",
    "    next_page = driver.find_element('xpath',\"//button[contains(text(), 'Load More')]\").click()\n",
    "        \n",
    "data = pd.DataFrame(reviews)\n",
    "print(data)"
   ]
  },
  {
   "cell_type": "code",
   "execution_count": 5,
   "metadata": {},
   "outputs": [],
   "source": [
    "data.to_csv(\"Bobobox.csv\", index=False)"
   ]
  }
 ],
 "metadata": {
  "kernelspec": {
   "display_name": "Python 3",
   "language": "python",
   "name": "python3"
  },
  "language_info": {
   "codemirror_mode": {
    "name": "ipython",
    "version": 3
   },
   "file_extension": ".py",
   "mimetype": "text/x-python",
   "name": "python",
   "nbconvert_exporter": "python",
   "pygments_lexer": "ipython3",
   "version": "3.11.9"
  }
 },
 "nbformat": 4,
 "nbformat_minor": 2
}
